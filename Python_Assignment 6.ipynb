{
 "cells": [
  {
   "cell_type": "code",
   "execution_count": 3,
   "id": "364d134f-fc0e-40f4-894c-ff4c035f1e82",
   "metadata": {},
   "outputs": [],
   "source": [
    " # 1: Build a program to manage a university's course catalog. You want to define a base class Course that has the following properties: course_code: a string representing the course code (e.g., \"CS101\") course_name: a string representing the course name (e.g., \"Introduction to Computer Science\") credit_hours: an integer representing the credit hours for the course (e.g., 3) You also want to define two subclasses CoreCourse and ElectiveCourse, which inherit from the Course class. CoreCourse should have an additional property required_for_major which is a boolean representing whether the course is required for a particular major. ElectiveCourse should have an additional property elective_type which is a string representing the type of elective (e.g., \"general\", \"technical\", \"liberal arts\"). "
   ]
  },
  {
   "cell_type": "code",
   "execution_count": 3,
   "id": "ba2e6b5c-dfd1-4a5a-ad37-91f3a1e58b0e",
   "metadata": {},
   "outputs": [],
   "source": [
    "class course:\n",
    "    def __init__(self,course_code,course_name,credit_hours):\n",
    "        self.course_code=course_code\n",
    "        self.course_name=course_name\n",
    "        self.credit_hours=credit_hours\n",
    "\n",
    "    def get_course_info(self):\n",
    "        return f\"{self.course_code}: {self.course_name}, {self.credit_hours} credit hours\""
   ]
  },
  {
   "cell_type": "code",
   "execution_count": 27,
   "id": "ad8ca908-d666-4043-8a48-8b475cfa161d",
   "metadata": {},
   "outputs": [],
   "source": [
    "\n",
    "class core_course(course):\n",
    "    def __init__(self,course_code,course_name,credit_hours,required_for_major):\n",
    "        super().__init__(course_code,course_name,credit_hours)\n",
    "        self.required_for_major=required_for_major\n",
    "\n",
    "    def get_course_info(self):\n",
    "        required_status = \"Required\" if self.required_for_major else \"Not Required\"\n",
    "        return f\"{super().get_course_info()}, {required_status} for major\"\n",
    "\n",
    "class elective_course(course):\n",
    "    def __init__(self,course_code,course_name,credit_hours,elective_type):\n",
    "        super().__init__(course_code,course_name,credit_hours)\n",
    "        self.elective_type=elective_type\n",
    "\n",
    "    def get_course_info(self):\n",
    "        return f\"{super().get_course_info()}, Elective Type: {self.elective_type}\""
   ]
  },
  {
   "cell_type": "code",
   "execution_count": 31,
   "id": "7f8c7713-41cf-4ec9-8082-387709b50a82",
   "metadata": {},
   "outputs": [
    {
     "name": "stdout",
     "output_type": "stream",
     "text": [
      "CS101: Introduction to Computer Science, 3 credit hours, Required for major\n",
      "HIS202: World History, 3 credit hours, Elective Type: Liberal Arts\n"
     ]
    }
   ],
   "source": [
    "course1 = core_course(\"CS101\", \"Introduction to Computer Science\", 3, True)\n",
    "course2 = elective_course(\"HIS202\", \"World History\", 3, \"Liberal Arts\")\n",
    "\n",
    "print(course1.get_course_info())\n",
    "print(course2.get_course_info())"
   ]
  },
  {
   "cell_type": "code",
   "execution_count": 33,
   "id": "d2910d3b-03d4-4a6c-b53b-e91de0007116",
   "metadata": {},
   "outputs": [],
   "source": [
    " # 2: Create a Python module named employee that contains a class Employee with attributes name, salary and methods get_name() and get_salary(). Write a program to use this module to create an object of the Employee class and display its name and salary."
   ]
  },
  {
   "cell_type": "code",
   "execution_count": 64,
   "id": "0e85134d-376c-4f86-be3b-2627a90e2037",
   "metadata": {},
   "outputs": [
    {
     "name": "stdout",
     "output_type": "stream",
     "text": [
      "Employee Name: John\n",
      "Employee Salary: 60000\n",
      "Employee Name: Lucy\n",
      "Employee Salary: 70000\n"
     ]
    }
   ],
   "source": [
    "# class Employee:\n",
    "#     def __init__(self,name,salary):\n",
    "#         self.name=name\n",
    "#         self.salary=salary\n",
    "\n",
    "#     def get_name(self):\n",
    "#         return self.name\n",
    "#     def get_salary(self):\n",
    "#         return self.salary\n",
    " # (This program saved as module named employee.py)\n",
    "\n",
    "import employee\n",
    "\n",
    "emp1 = employee.Employee(\"John\", 60000)\n",
    "print(f\"Employee Name: {emp1.get_name()}\")\n",
    "print(f\"Employee Salary: {emp1.get_salary()}\")\n",
    "\n",
    "emp2 = employee.Employee(\"Lucy\", 70000)\n",
    "print(f\"Employee Name: {emp2.get_name()}\")\n",
    "print(f\"Employee Salary: {emp2.get_salary()}\")  "
   ]
  },
  {
   "cell_type": "code",
   "execution_count": null,
   "id": "06170c24-7e4c-413f-a3cd-6547f0e3263f",
   "metadata": {},
   "outputs": [],
   "source": []
  }
 ],
 "metadata": {
  "kernelspec": {
   "display_name": "Python [conda env:base] *",
   "language": "python",
   "name": "conda-base-py"
  },
  "language_info": {
   "codemirror_mode": {
    "name": "ipython",
    "version": 3
   },
   "file_extension": ".py",
   "mimetype": "text/x-python",
   "name": "python",
   "nbconvert_exporter": "python",
   "pygments_lexer": "ipython3",
   "version": "3.12.7"
  }
 },
 "nbformat": 4,
 "nbformat_minor": 5
}
