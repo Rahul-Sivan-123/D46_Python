{
 "cells": [
  {
   "cell_type": "code",
   "execution_count": 1,
   "id": "6a40f973-d953-474d-8d24-f58658b9004a",
   "metadata": {},
   "outputs": [],
   "source": [
    "# 1: Write a Python program to read a file and display its contents "
   ]
  },
  {
   "cell_type": "code",
   "execution_count": 3,
   "id": "74200ca1-e5a7-4205-b2e8-a4b0af5c1194",
   "metadata": {},
   "outputs": [
    {
     "name": "stdout",
     "output_type": "stream",
     "text": [
      "The content of the file is:\n",
      "This is a custom location read demo file!!!!\n"
     ]
    }
   ],
   "source": [
    "with open('D46_sample_read.txt','r') as x:\n",
    "    content=x.read()\n",
    "    print('The content of the file is:')\n",
    "    print(content)"
   ]
  },
  {
   "cell_type": "code",
   "execution_count": 5,
   "id": "fce3bf40-c35c-4a4b-9be8-00fab85939bd",
   "metadata": {},
   "outputs": [],
   "source": [
    "# 2: Write a Python program to copy the contents of one file to another file"
   ]
  },
  {
   "cell_type": "code",
   "execution_count": 121,
   "id": "b85be8f4-4b9d-461e-97f9-4f5b60031ad3",
   "metadata": {},
   "outputs": [
    {
     "name": "stdout",
     "output_type": "stream",
     "text": [
      "Contents of D46_sample_read.txt successfully copied to D46_new_file.txt.\n"
     ]
    }
   ],
   "source": [
    "def copy_file(old_file, new_file):\n",
    "    try:\n",
    "        with open(old_file, 'r') as old,open(new_file, 'w') as new:\n",
    "            new.write(old.read())\n",
    "            print(f\"Contents of {old_file} successfully copied to {new_file}.\")\n",
    "    except FileNotFoundError:\n",
    "        print(f\"Error: The file {old_file} was not found.\")\n",
    "    except IOError as e:\n",
    "         print(f\"Error: An IOError occurred: {e}\")\n",
    "        \n",
    "old_file = 'D46_sample_read.txt'\n",
    "new_file = 'D46_new_file.txt'\n",
    "copy_file(old_file, new_file)"
   ]
  },
  {
   "cell_type": "code",
   "execution_count": 123,
   "id": "69194907-fe0a-41f7-b882-cec4d526561d",
   "metadata": {},
   "outputs": [],
   "source": [
    "# 3: Write a Python program to read the content of a file and count the total number of words in that file. "
   ]
  },
  {
   "cell_type": "code",
   "execution_count": 125,
   "id": "aee27db9-575a-4137-9b02-0204396b250b",
   "metadata": {},
   "outputs": [
    {
     "name": "stdout",
     "output_type": "stream",
     "text": [
      "The content of the file is:\n",
      "This is a custom location read demo file!!!!\n",
      "The total number of words in the file is: 44\n"
     ]
    }
   ],
   "source": [
    "with open('D46_sample_read.txt','r') as x:\n",
    "    content=x.read()\n",
    "    print('The content of the file is:')\n",
    "    print(content)\n",
    "    l=len(content)\n",
    "    print('The total number of words in the file is:',l)"
   ]
  },
  {
   "cell_type": "code",
   "execution_count": 127,
   "id": "1dc58454-2c63-45d2-bba7-1282ca3d83ff",
   "metadata": {},
   "outputs": [],
   "source": [
    "#  4:  Write a Python program that prompts the user to input a string and converts it to an integer. Use try-except blocks to handle any exceptions that might occur "
   ]
  },
  {
   "cell_type": "code",
   "execution_count": 30,
   "id": "18aa05bc-8d18-4972-99ab-b0d509dd6832",
   "metadata": {},
   "outputs": [
    {
     "name": "stdin",
     "output_type": "stream",
     "text": [
      "Enter a string: r\n"
     ]
    },
    {
     "name": "stdout",
     "output_type": "stream",
     "text": [
      "Invalid string Entry .Please try again.\n"
     ]
    },
    {
     "name": "stdin",
     "output_type": "stream",
     "text": [
      "Enter a string: 5\n"
     ]
    },
    {
     "name": "stdout",
     "output_type": "stream",
     "text": [
      "Converted string value is: 5\n"
     ]
    }
   ],
   "source": [
    "def convert():\n",
    "    while True:\n",
    "        a=input('Enter a string:')\n",
    "        try:\n",
    "            s=int(a)\n",
    "            print('Converted string value is:',s)\n",
    "            break\n",
    "        except ValueError:\n",
    "            print('Invalid string Entry .Please try again.')\n",
    "      \n",
    "convert()"
   ]
  },
  {
   "cell_type": "code",
   "execution_count": 182,
   "id": "9924bc32-1f4f-4f5b-b25c-50b71d93ef82",
   "metadata": {},
   "outputs": [],
   "source": [
    "# 5:  Write a Python program that prompts the user to input a list of integers and raises an exception if any of the integers in the list are negative. "
   ]
  },
  {
   "cell_type": "code",
   "execution_count": null,
   "id": "57ea3ef6-3fda-4c61-a4f7-512d535bd5ca",
   "metadata": {},
   "outputs": [],
   "source": [
    "def positive_int():\n",
    "    while True:\n",
    "        try:\n",
    "            list1=[]\n",
    "            for i in range(5):\n",
    "                a=int(input('Enter number:'))\n",
    "                list1.append(a)\n",
    "                    \n",
    "            for j in list1:\n",
    "                if j<0:\n",
    "                    raise ValueError(f\"Negative integer found: {j}\")\n",
    "            print(list1)\n",
    "            break\n",
    "        except ValueError as e:\n",
    "            print(\"Error:\", e)\n",
    "            print(\"Enter a positive integer.\")\n",
    "positive_int()"
   ]
  },
  {
   "cell_type": "code",
   "execution_count": null,
   "id": "6c360a7b-973f-4041-9d75-b7831ec4250a",
   "metadata": {},
   "outputs": [
    {
     "name": "stdin",
     "output_type": "stream",
     "text": [
      "Enter number: 5\n",
      "Enter number: 7\n",
      "Enter number: -7\n",
      "Enter number: -8\n",
      "Enter number: 7\n"
     ]
    },
    {
     "name": "stdout",
     "output_type": "stream",
     "text": [
      "[5, 7, -7, -8, 7]\n",
      "Error: Negative integer found:-7\n",
      "Please try again.\n"
     ]
    }
   ],
   "source": [
    "def positive_int():\n",
    "    while True:\n",
    "        try:\n",
    "            list1=[]\n",
    "            for i in range(5):\n",
    "                a=int(input('Enter number:'))\n",
    "                list1.append(a)\n",
    "            print(list1)\n",
    "            for j in list1:\n",
    "                if j<0:\n",
    "                    raise ValueError(f\"Negative integer found:{j}\")\n",
    "            break\n",
    "        except ValueError as e:\n",
    "            print(\"Error:\", e)\n",
    "            print(\"Please try again.\")\n",
    "\n",
    "positive_int()\n"
   ]
  },
  {
   "cell_type": "code",
   "execution_count": 1,
   "id": "5e8e4440-35f1-4794-971e-0d43cba33521",
   "metadata": {},
   "outputs": [],
   "source": [
    "# 6.Write a Python program that prompts the user to input a list of integers and computes the average of those integers. Use try-except blocks to handle any exceptions that might occur.use the finally clause to print a message indicating that the program has finished running."
   ]
  },
  {
   "cell_type": "code",
   "execution_count": 3,
   "id": "3ccd1c28-beb8-45e8-9ad4-6756f6af15c5",
   "metadata": {},
   "outputs": [
    {
     "name": "stdin",
     "output_type": "stream",
     "text": [
      "Enter list of integers separated by space \n",
      " 4 5 6 7 \n"
     ]
    },
    {
     "name": "stdout",
     "output_type": "stream",
     "text": [
      "The average of list of integers is 5.5\n",
      "The program has finished running.\n"
     ]
    }
   ],
   "source": [
    "def int_list():\n",
    "        try:\n",
    "            input_list=(input('Enter list of integers separated by space: \\n'))\n",
    "            int_list=[int(x) for x in input_list.split()]\n",
    "\n",
    "            average=sum(int_list)/len(int_list)\n",
    "            print(f'The average of list of integers is {average}')\n",
    "               \n",
    "        except ValueError as e:\n",
    "            print('Error:', e)\n",
    "        except ZeroDivisionError:\n",
    "            print('Error: Cannot compute the average of list!')\n",
    "        finally :\n",
    "            print('The program has finished running.')\n",
    "int_list()"
   ]
  },
  {
   "cell_type": "code",
   "execution_count": 5,
   "id": "9e50cb0b-2847-470f-9fe8-2ac97abb76cf",
   "metadata": {},
   "outputs": [],
   "source": [
    "# Write a Python program that prompts the user to input a filename and writes a string to that file. Use try-except blocks to handle any exceptions that might occur and print a welcome message if there is no exception occurred."
   ]
  },
  {
   "cell_type": "code",
   "execution_count": 37,
   "id": "495570f4-99fe-42d3-b77c-8100f3f8210d",
   "metadata": {},
   "outputs": [
    {
     "name": "stdin",
     "output_type": "stream",
     "text": [
      "Enter a filename: tfy\n",
      "Enter the message to be written in the file: vhjvhbkhbk\n"
     ]
    },
    {
     "name": "stdout",
     "output_type": "stream",
     "text": [
      "Welcome! The message has been succesfully written into tfy.\n"
     ]
    }
   ],
   "source": [
    "def write_string():\n",
    "    try:\n",
    "        file1=input('Enter a filename:')\n",
    "        content=input('Enter the message to be written in the file:')\n",
    "        with open(file1,'w') as x:\n",
    "            x.write(content)\n",
    "        print(f'Welcome! The message has been succesfully written into {file1}.')\n",
    "\n",
    "    except IOError as e:\n",
    "        print('IO Error:',e)\n",
    "\n",
    "write_string()\n"
   ]
  },
  {
   "cell_type": "code",
   "execution_count": null,
   "id": "b3295588-f2c5-4fa4-8aac-d6b48cb360b4",
   "metadata": {},
   "outputs": [],
   "source": []
  }
 ],
 "metadata": {
  "kernelspec": {
   "display_name": "Python [conda env:base] *",
   "language": "python",
   "name": "conda-base-py"
  },
  "language_info": {
   "codemirror_mode": {
    "name": "ipython",
    "version": 3
   },
   "file_extension": ".py",
   "mimetype": "text/x-python",
   "name": "python",
   "nbconvert_exporter": "python",
   "pygments_lexer": "ipython3",
   "version": "3.12.7"
  }
 },
 "nbformat": 4,
 "nbformat_minor": 5
}
