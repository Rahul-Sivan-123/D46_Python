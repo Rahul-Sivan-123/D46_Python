{
 "cells": [
  {
   "cell_type": "code",
   "execution_count": null,
   "id": "2e2e523a-055f-4a90-bc8b-5cbab61cdbbf",
   "metadata": {},
   "outputs": [],
   "source": [
    "# Exercise 1:Create a numpy array containing the numbers from 1 to 10, and then reshape it to a 2x5 matrix. "
   ]
  },
  {
   "cell_type": "code",
   "execution_count": 1,
   "id": "02b6d5f6-8619-4a50-b8fa-b862a1984dda",
   "metadata": {},
   "outputs": [],
   "source": [
    "import numpy as np\n"
   ]
  },
  {
   "cell_type": "code",
   "execution_count": 19,
   "id": "115cd1b3-02d5-460c-84d8-8de16bc7d9e5",
   "metadata": {},
   "outputs": [
    {
     "data": {
      "text/plain": [
       "array([ 1,  2,  3,  4,  5,  6,  7,  8,  9, 10])"
      ]
     },
     "execution_count": 19,
     "metadata": {},
     "output_type": "execute_result"
    }
   ],
   "source": [
    "arr1=np.arange(1,11)\n",
    "arr1.reshape(2,5)\n",
    "arr1"
   ]
  },
  {
   "cell_type": "code",
   "execution_count": 25,
   "id": "6cf55a50-0297-4b2f-a514-3b7b847055c6",
   "metadata": {},
   "outputs": [],
   "source": [
    "# Exercise 2:Create a numpy array containing the numbers from 1 to 20, and then extract the elements between the 5th and 15th index. "
   ]
  },
  {
   "cell_type": "code",
   "execution_count": 27,
   "id": "cb608a8e-0223-40e0-bb32-9b022da95ed7",
   "metadata": {},
   "outputs": [
    {
     "name": "stdout",
     "output_type": "stream",
     "text": [
      "The elements between 5th and 15th index is: [ 6  7  8  9 10 11 12 13 14 15]\n"
     ]
    }
   ],
   "source": [
    "arr2=np.arange(1,21)\n",
    "ext=arr2[5:15]\n",
    "print('The elements between 5th and 15th index is:',ext)"
   ]
  },
  {
   "cell_type": "code",
   "execution_count": 33,
   "id": "02022bcd-9903-4e1b-a591-6e929539a5d5",
   "metadata": {},
   "outputs": [],
   "source": [
    "# Exercise 3:Create a Pandas series with the following data: {'apples': 3, 'bananas': 2, 'oranges': 1}. Then, add a new item to the series with the key 'pears' and the value 4. "
   ]
  },
  {
   "cell_type": "code",
   "execution_count": 3,
   "id": "c0605e46-f319-4714-a3d7-ba98fb0ba56d",
   "metadata": {},
   "outputs": [],
   "source": [
    "import pandas as pd"
   ]
  },
  {
   "cell_type": "code",
   "execution_count": 41,
   "id": "ec6c4605-4b3d-4423-94e2-ab7bbe830e26",
   "metadata": {},
   "outputs": [
    {
     "data": {
      "text/plain": [
       "apples     3\n",
       "bananas    2\n",
       "oranges    1\n",
       "dtype: int64"
      ]
     },
     "execution_count": 41,
     "metadata": {},
     "output_type": "execute_result"
    }
   ],
   "source": [
    "ser=pd.Series([3,2,1],index=['apples','bananas','oranges'])\n",
    "ser"
   ]
  },
  {
   "cell_type": "code",
   "execution_count": 57,
   "id": "5aeab8f5-5fcb-443e-90f8-47c93c293a24",
   "metadata": {},
   "outputs": [
    {
     "data": {
      "text/plain": [
       "apples     3\n",
       "bananas    2\n",
       "oranges    1\n",
       "pears      4\n",
       "dtype: int64"
      ]
     },
     "execution_count": 57,
     "metadata": {},
     "output_type": "execute_result"
    }
   ],
   "source": [
    "ser['pears']=4\n",
    "ser"
   ]
  },
  {
   "cell_type": "code",
   "execution_count": 59,
   "id": "c022adea-7255-4520-bdd4-f7534ed64842",
   "metadata": {},
   "outputs": [],
   "source": [
    "# Exercise 4:Create a dataframe with the following columns: name, age, and gender. The dataframe should have 10 rows of data. "
   ]
  },
  {
   "cell_type": "code",
   "execution_count": 5,
   "id": "d624273c-3c9c-4fe1-a770-20b844e14ad3",
   "metadata": {},
   "outputs": [
    {
     "name": "stdout",
     "output_type": "stream",
     "text": [
      "DataFrame:\n",
      "      name  age  gender\n",
      "0     Ram   25  Female\n",
      "1     Bob   35    Male\n",
      "2   Chand   32    Male\n",
      "3     Dex   28  Female\n",
      "4   Edwin   22    Male\n",
      "5    Fits   23  Female\n",
      "6  George   33    Male\n",
      "7   Hanna   29  Female\n",
      "8    Ivin   40    Male\n",
      "9    June   37  Female\n"
     ]
    }
   ],
   "source": [
    "data = {\n",
    "    'name': ['Ram', 'Bob', 'Chand', 'Dex', 'Edwin', 'Fits', 'George', 'Hanna', 'Ivin', 'June'],\n",
    "    'age': [25, 35, 32, 28, 22, 23, 33, 29, 40, 37],\n",
    "    'gender': ['Female', 'Male', 'Male', 'Female', 'Male', 'Female', 'Male', 'Female', 'Male', 'Female']\n",
    "}\n",
    "\n",
    "df = pd.DataFrame(data)\n",
    "print('DataFrame:\\n',df)"
   ]
  },
  {
   "cell_type": "code",
   "execution_count": 70,
   "id": "95c68da6-34b8-463b-a6c8-1f26076fc4b9",
   "metadata": {},
   "outputs": [],
   "source": [
    "# Exercise 5:Add a new column to the data frame created in question 1, called occupation. The values for this column should be Programmer, Manager, and Analyst, corresponding to the rows in the dataframe. "
   ]
  },
  {
   "cell_type": "code",
   "execution_count": 7,
   "id": "f567db2f-c9fe-48da-9f1f-fd3bab00fbd6",
   "metadata": {},
   "outputs": [
    {
     "name": "stdout",
     "output_type": "stream",
     "text": [
      "updated_DataFrame is:\n",
      "      name  age  gender  occupation\n",
      "0     Ram   25  Female  Programmer\n",
      "1     Bob   35    Male     Manager\n",
      "2   Chand   32    Male     Analyst\n",
      "3     Dex   28  Female  Programmer\n",
      "4   Edwin   22    Male     Manager\n",
      "5    Fits   23  Female     Analyst\n",
      "6  George   33    Male  Programmer\n",
      "7   Hanna   29  Female     Manager\n",
      "8    Ivin   40    Male     Analyst\n",
      "9    June   37  Female  Programmer\n"
     ]
    }
   ],
   "source": [
    "df['occupation']=['Programmer','Manager','Analyst','Programmer','Manager','Analyst','Programmer','Manager','Analyst','Programmer']\n",
    "print('updated_DataFrame is:\\n',df)"
   ]
  },
  {
   "cell_type": "code",
   "execution_count": 78,
   "id": "f444770c-6fb0-4cc2-905f-ff9a1b22829b",
   "metadata": {},
   "outputs": [],
   "source": [
    "# xercise 6:Select the rows of the dataframe where the age is greater than or equal to 30. "
   ]
  },
  {
   "cell_type": "code",
   "execution_count": 86,
   "id": "2081a21f-e080-49ef-bb6f-d63adc8cfaed",
   "metadata": {},
   "outputs": [
    {
     "name": "stdout",
     "output_type": "stream",
     "text": [
      "Dataframe where age is greater than or equal to 30 is:\n",
      "      name  age  gender  occupation\n",
      "1     Bob   35    Male     Manager\n",
      "2   Chand   32    Male     Analyst\n",
      "6  George   33    Male  Programmer\n",
      "8    Ivin   40    Male     Analyst\n",
      "9    June   37  Female  Programmer\n"
     ]
    }
   ],
   "source": [
    "df1=df[df['age']>=30]\n",
    "print('Dataframe where age is greater than or equal to 30 is:\\n',df1)"
   ]
  },
  {
   "cell_type": "code",
   "execution_count": 88,
   "id": "0c96b237-11f9-46b0-bcb9-e3a923bc5923",
   "metadata": {},
   "outputs": [],
   "source": [
    "# Exercise 7:Convert this dataframe to a csv file and read that csv file, finally display the contents."
   ]
  },
  {
   "cell_type": "code",
   "execution_count": 94,
   "id": "87ae48a3-67d8-4c93-9442-05b3b7349370",
   "metadata": {},
   "outputs": [
    {
     "name": "stdout",
     "output_type": "stream",
     "text": [
      "The CSV file is:\n",
      "     name  age  gender  occupation\n",
      "0     Ram   25  Female  Programmer\n",
      "1     Bob   35    Male     Manager\n",
      "2   Chand   32    Male     Analyst\n",
      "3     Dex   28  Female  Programmer\n",
      "4   Edwin   22    Male     Manager\n",
      "5    Fits   23  Female     Analyst\n",
      "6  George   33    Male  Programmer\n",
      "7   Hanna   29  Female     Manager\n",
      "8    Ivin   40    Male     Analyst\n",
      "9    June   37  Female  Programmer\n"
     ]
    }
   ],
   "source": [
    "df.to_csv('dataframe.csv',index=False)\n",
    "df_from_csv = pd.read_csv('dataframe.csv')\n",
    "print(\"The CSV file is:\")\n",
    "print(df_from_csv)\n"
   ]
  },
  {
   "cell_type": "code",
   "execution_count": null,
   "id": "6f67cb47-3da9-4909-9d38-ac9788ba8940",
   "metadata": {},
   "outputs": [],
   "source": []
  }
 ],
 "metadata": {
  "kernelspec": {
   "display_name": "Python [conda env:base] *",
   "language": "python",
   "name": "conda-base-py"
  },
  "language_info": {
   "codemirror_mode": {
    "name": "ipython",
    "version": 3
   },
   "file_extension": ".py",
   "mimetype": "text/x-python",
   "name": "python",
   "nbconvert_exporter": "python",
   "pygments_lexer": "ipython3",
   "version": "3.12.7"
  }
 },
 "nbformat": 4,
 "nbformat_minor": 5
}
