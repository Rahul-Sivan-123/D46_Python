{
 "cells": [
  {
   "cell_type": "code",
   "execution_count": 1,
   "id": "8f64f550-4319-4eb6-bea3-d0329e1421d8",
   "metadata": {},
   "outputs": [],
   "source": [
    "# 1:Create a function that takes in three arguments, two of which are optional. The first argument should be a required positional argument, the second argument should be a keyword argument with a default value of 10, and the third argument should be a keyword argument with a default value of None. The function should print the sum of the first two arguments if the third argument is None, and print the product of all three arguments if the third argument is not None."
   ]
  },
  {
   "cell_type": "code",
   "execution_count": 29,
   "id": "847996b4-007c-4804-ae9a-cde2aed3ce4b",
   "metadata": {},
   "outputs": [],
   "source": [
    "def func(a,b=10,c=None):\n",
    "    if c==None:\n",
    "        print(a+b)\n",
    "    else:\n",
    "        print(a*b*c)"
   ]
  },
  {
   "cell_type": "code",
   "execution_count": 31,
   "id": "bec0daf8-d4cb-4eff-b77f-3312f0592146",
   "metadata": {},
   "outputs": [
    {
     "name": "stdout",
     "output_type": "stream",
     "text": [
      "16\n"
     ]
    }
   ],
   "source": [
    "func(6)\n"
   ]
  },
  {
   "cell_type": "code",
   "execution_count": 25,
   "id": "46430845-a048-401a-a0e7-91b1045d2e56",
   "metadata": {},
   "outputs": [
    {
     "name": "stdout",
     "output_type": "stream",
     "text": [
      "126\n"
     ]
    }
   ],
   "source": [
    "func(7,3,6)"
   ]
  },
  {
   "cell_type": "code",
   "execution_count": 27,
   "id": "2fe75d8a-264e-40d8-8639-8c5176b8fbaf",
   "metadata": {},
   "outputs": [],
   "source": [
    "# 2.Write a function that takes in a list of strings and returns a new list with only the strings that have a length greater than or equal to 5. "
   ]
  },
  {
   "cell_type": "code",
   "execution_count": 85,
   "id": "609cf808-de63-4050-80a2-8f5d71cb82f1",
   "metadata": {},
   "outputs": [],
   "source": [
    "def string_list(str):\n",
    "    list1=[]\n",
    "    for i in str:\n",
    "        if len(i)>=5:\n",
    "           list1.append(i)\n",
    "    return list1\n",
    "\n",
    "p=list1\n",
    "print(p)\n"
   ]
  },
  {
   "cell_type": "code",
   "execution_count": 87,
   "id": "7e436a65-39aa-4193-995e-77f6d43d3084",
   "metadata": {},
   "outputs": [
    {
     "name": "stdout",
     "output_type": "stream",
     "text": [
      "['apple', 'banana', 'orange']\n"
     ]
    }
   ],
   "source": [
    "str=['apple','banana','orange']\n",
    "p=string_list(str)\n",
    "print(p)"
   ]
  },
  {
   "cell_type": "code",
   "execution_count": 98,
   "id": "2e0c4adb-e579-48ad-81ec-04705d9d0645",
   "metadata": {},
   "outputs": [],
   "source": [
    " # 3.Write a Python program to evaluate a given mathematical expression using the eval() function. expression = \"3 * 5 + 2\" "
   ]
  },
  {
   "cell_type": "code",
   "execution_count": 100,
   "id": "adb16924-26f8-4fe3-be22-b5c2b2bd6abf",
   "metadata": {},
   "outputs": [
    {
     "name": "stdout",
     "output_type": "stream",
     "text": [
      "17\n"
     ]
    }
   ],
   "source": [
    "x='print(3*5+2)'\n",
    "eval(x)"
   ]
  },
  {
   "cell_type": "code",
   "execution_count": 102,
   "id": "d3976625-2cf3-452f-9e90-288f09edb14f",
   "metadata": {},
   "outputs": [],
   "source": [
    "# 4.Write a Python program to filter out the prime numbers from a given list of integers using the filter() function."
   ]
  },
  {
   "cell_type": "code",
   "execution_count": 72,
   "id": "7c5500a8-42d0-401c-9259-d3f7694b5225",
   "metadata": {},
   "outputs": [],
   "source": [
    "\n",
    "def filter_prime(n):\n",
    "    if n<=1:\n",
    "        return False\n",
    "    if n>1:\n",
    "        for i in range(2,n):\n",
    "            if n%i==0:\n",
    "                return False\n",
    "        return True\n",
    "      \n",
    "    \n",
    "        "
   ]
  },
  {
   "cell_type": "code",
   "execution_count": 79,
   "id": "cdf10904-2df5-48ee-8493-62c30a947070",
   "metadata": {},
   "outputs": [
    {
     "name": "stdout",
     "output_type": "stream",
     "text": [
      "[2, 3, 5, 7]\n"
     ]
    }
   ],
   "source": [
    "\n",
    "num=[1,2,3,4,5,6,7,8,9,10]\n",
    "prime_num=list(filter(filter_prime,num))\n",
    "print(prime_num)\n",
    "    \n",
    "    "
   ]
  },
  {
   "cell_type": "code",
   "execution_count": 81,
   "id": "0ca4508c-96d1-423f-85be-b2577978bccc",
   "metadata": {},
   "outputs": [],
   "source": [
    "# 5. Write a Python program to convert a list of strings to uppercase using the map() function."
   ]
  },
  {
   "cell_type": "code",
   "execution_count": 9,
   "id": "e122ac67-8c09-4018-b24f-45baee54efb4",
   "metadata": {},
   "outputs": [
    {
     "name": "stdout",
     "output_type": "stream",
     "text": [
      "['APPLE', 'ORANGE', 'PLUM', 'CHERRY']\n"
     ]
    }
   ],
   "source": [
    "s1=['apple','orange','plum','cherry']\n",
    "s2=list(map(str.upper, s1))\n",
    "print(s2)"
   ]
  },
  {
   "cell_type": "code",
   "execution_count": null,
   "id": "d3758f5c-f36f-4733-9e11-1fa554b7f11b",
   "metadata": {},
   "outputs": [],
   "source": []
  }
 ],
 "metadata": {
  "kernelspec": {
   "display_name": "Python [conda env:base] *",
   "language": "python",
   "name": "conda-base-py"
  },
  "language_info": {
   "codemirror_mode": {
    "name": "ipython",
    "version": 3
   },
   "file_extension": ".py",
   "mimetype": "text/x-python",
   "name": "python",
   "nbconvert_exporter": "python",
   "pygments_lexer": "ipython3",
   "version": "3.12.7"
  }
 },
 "nbformat": 4,
 "nbformat_minor": 5
}
