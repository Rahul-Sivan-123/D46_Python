{
 "cells": [
  {
   "cell_type": "markdown",
   "id": "56d497ff-fb57-4a53-b38b-e2d8c6f82ada",
   "metadata": {},
   "source": [
    "# Assignment 2.Data structures in Python"
   ]
  },
  {
   "cell_type": "code",
   "execution_count": 4,
   "id": "2ed66155-79c7-4cca-ba8f-4407a0faea8c",
   "metadata": {},
   "outputs": [],
   "source": [
    "# Q1. Create a list of 5 random numbers and print the list."
   ]
  },
  {
   "cell_type": "code",
   "execution_count": 6,
   "id": "4499cb10-f059-46ef-8d0d-93c0cde8b5b1",
   "metadata": {},
   "outputs": [
    {
     "name": "stdout",
     "output_type": "stream",
     "text": [
      "[1, 5, 7, 8, 10]\n"
     ]
    }
   ],
   "source": [
    "list=[1,5,7,8,10]\n",
    "print(list)"
   ]
  },
  {
   "cell_type": "code",
   "execution_count": 8,
   "id": "31afac8a-ca13-4457-8e77-dca68cdaa6d3",
   "metadata": {},
   "outputs": [],
   "source": [
    "# Q2. Insert 3 new values to the list and print the updated list."
   ]
  },
  {
   "cell_type": "code",
   "execution_count": 78,
   "id": "e885d291-73b8-49ea-b3b5-0a2837403b84",
   "metadata": {},
   "outputs": [
    {
     "name": "stdout",
     "output_type": "stream",
     "text": [
      "[1, 5, 7, 8, 10, 4, 9, 13]\n"
     ]
    }
   ],
   "source": [
    "list=[1,5,7,8,10]\n",
    "list.append(4)\n",
    "list.append(9)\n",
    "list.append(13)\n",
    "print(list)"
   ]
  },
  {
   "cell_type": "code",
   "execution_count": 1,
   "id": "fcdb21c5-9f58-4c2d-ab17-df3cd56bd001",
   "metadata": {},
   "outputs": [],
   "source": [
    "# Q3. Try to use a for loop to print each element in the list."
   ]
  },
  {
   "cell_type": "code",
   "execution_count": 5,
   "id": "cdec4281-92d8-4163-a02b-d892a18acff5",
   "metadata": {},
   "outputs": [
    {
     "name": "stdout",
     "output_type": "stream",
     "text": [
      "1\n",
      "5\n",
      "7\n",
      "8\n",
      "10\n"
     ]
    }
   ],
   "source": [
    "list=[1,5,7,8,10]\n",
    "for i in list:\n",
    "    print(i)"
   ]
  },
  {
   "cell_type": "markdown",
   "id": "32104fb3-140b-47a6-9aeb-ee6457d18d09",
   "metadata": {},
   "source": [
    "# Topic: Dictionary Exercise"
   ]
  },
  {
   "cell_type": "code",
   "execution_count": 9,
   "id": "b189e2bd-7a4e-4d9e-89e8-cf7a3ae54b3e",
   "metadata": {},
   "outputs": [],
   "source": [
    "# Q1. Create a dictionary with keys 'name', 'age', and 'address' and values 'John', 25, and 'New York' respectively. "
   ]
  },
  {
   "cell_type": "code",
   "execution_count": 17,
   "id": "ca8bf98c-3bbc-453c-92ce-549fa1afb392",
   "metadata": {},
   "outputs": [
    {
     "data": {
      "text/plain": [
       "{'name': 'John', 'age': 25, 'address': 'New York'}"
      ]
     },
     "execution_count": 17,
     "metadata": {},
     "output_type": "execute_result"
    }
   ],
   "source": [
    "dict={'name':'John','age':25,'address':'New York'}\n",
    "dict"
   ]
  },
  {
   "cell_type": "code",
   "execution_count": 19,
   "id": "c61748d3-e85a-4080-93f6-74fe92e2a4ee",
   "metadata": {},
   "outputs": [],
   "source": [
    "# Q2. Add a new key-value pair to the dictionary created in Q1 with key 'phone' and value '1234567890'. "
   ]
  },
  {
   "cell_type": "code",
   "execution_count": 23,
   "id": "21064f52-37a7-477a-800e-5998ebf08393",
   "metadata": {},
   "outputs": [
    {
     "data": {
      "text/plain": [
       "{'name': 'John', 'age': 25, 'address': 'New York', 'phone': 1234567890}"
      ]
     },
     "execution_count": 23,
     "metadata": {},
     "output_type": "execute_result"
    }
   ],
   "source": [
    "dict.update({'phone':1234567890})\n",
    "dict"
   ]
  },
  {
   "cell_type": "markdown",
   "id": "d6b9759c-0253-48c9-a212-4f5d40b92ec7",
   "metadata": {},
   "source": [
    " # Topic: Set"
   ]
  },
  {
   "cell_type": "code",
   "execution_count": 28,
   "id": "70183810-5d0b-40e5-9322-03674d843f14",
   "metadata": {},
   "outputs": [],
   "source": [
    "# Q1.Create a set with values 1, 2, 3, 4, and 5. "
   ]
  },
  {
   "cell_type": "code",
   "execution_count": 38,
   "id": "b112726b-cd02-4f4d-90ef-800c632173dc",
   "metadata": {},
   "outputs": [
    {
     "data": {
      "text/plain": [
       "{1, 2, 3, 4, 5}"
      ]
     },
     "execution_count": 38,
     "metadata": {},
     "output_type": "execute_result"
    }
   ],
   "source": [
    "set={1,2,3,4,5}\n",
    "set"
   ]
  },
  {
   "cell_type": "code",
   "execution_count": 42,
   "id": "5eb1db78-cb30-4587-af30-9004c669b755",
   "metadata": {},
   "outputs": [],
   "source": [
    "# Q2. Add the value 6 to the set created in Q1."
   ]
  },
  {
   "cell_type": "code",
   "execution_count": 46,
   "id": "a1f6368f-7fb3-476e-969c-937f57d313a5",
   "metadata": {},
   "outputs": [
    {
     "data": {
      "text/plain": [
       "{1, 2, 3, 4, 5, 6}"
      ]
     },
     "execution_count": 46,
     "metadata": {},
     "output_type": "execute_result"
    }
   ],
   "source": [
    "set.update({6})\n",
    "set"
   ]
  },
  {
   "cell_type": "code",
   "execution_count": 48,
   "id": "89341c54-f5b5-4e61-9f0c-14c8500dbd41",
   "metadata": {},
   "outputs": [],
   "source": [
    "# Q3. Remove the value 3 from the set created in Q1."
   ]
  },
  {
   "cell_type": "code",
   "execution_count": 50,
   "id": "e8d624b6-25c4-4556-a241-b1c3fa5b454f",
   "metadata": {},
   "outputs": [
    {
     "data": {
      "text/plain": [
       "{1, 2, 4, 5, 6}"
      ]
     },
     "execution_count": 50,
     "metadata": {},
     "output_type": "execute_result"
    }
   ],
   "source": [
    "set.remove(3)\n",
    "set"
   ]
  },
  {
   "cell_type": "markdown",
   "id": "da35d50b-a55d-47c1-9062-9099cc2b2153",
   "metadata": {},
   "source": [
    "# Topic: Tuple"
   ]
  },
  {
   "cell_type": "code",
   "execution_count": 54,
   "id": "e3d9ce04-849e-4b64-aef8-5205eaa28552",
   "metadata": {},
   "outputs": [],
   "source": [
    "# Q1. Create a tuple with values 1, 2, 3, and 4 "
   ]
  },
  {
   "cell_type": "code",
   "execution_count": 56,
   "id": "addcbb93-6452-4cee-8d72-10e887c7e55e",
   "metadata": {},
   "outputs": [
    {
     "data": {
      "text/plain": [
       "(1, 2, 3, 4)"
      ]
     },
     "execution_count": 56,
     "metadata": {},
     "output_type": "execute_result"
    }
   ],
   "source": [
    "tup=(1,2,3,4)\n",
    "tup"
   ]
  },
  {
   "cell_type": "code",
   "execution_count": 58,
   "id": "f8997b92-56fe-4498-b504-cf2b5c2c1aa2",
   "metadata": {},
   "outputs": [
    {
     "data": {
      "text/plain": [
       "tuple"
      ]
     },
     "execution_count": 58,
     "metadata": {},
     "output_type": "execute_result"
    }
   ],
   "source": [
    "type(tup)"
   ]
  },
  {
   "cell_type": "code",
   "execution_count": 60,
   "id": "390ee202-22e7-4719-8e12-14b9596cd033",
   "metadata": {},
   "outputs": [],
   "source": [
    "# 2. Print the length of the tuple created in Q1."
   ]
  },
  {
   "cell_type": "code",
   "execution_count": 62,
   "id": "90ca3dea-0033-4893-96aa-977e9f010d65",
   "metadata": {},
   "outputs": [
    {
     "data": {
      "text/plain": [
       "4"
      ]
     },
     "execution_count": 62,
     "metadata": {},
     "output_type": "execute_result"
    }
   ],
   "source": [
    "len(tup)"
   ]
  },
  {
   "cell_type": "code",
   "execution_count": null,
   "id": "850fb181-dd0d-4c7e-9645-b0d5f09984d8",
   "metadata": {},
   "outputs": [],
   "source": []
  }
 ],
 "metadata": {
  "kernelspec": {
   "display_name": "Python [conda env:base] *",
   "language": "python",
   "name": "conda-base-py"
  },
  "language_info": {
   "codemirror_mode": {
    "name": "ipython",
    "version": 3
   },
   "file_extension": ".py",
   "mimetype": "text/x-python",
   "name": "python",
   "nbconvert_exporter": "python",
   "pygments_lexer": "ipython3",
   "version": "3.12.7"
  }
 },
 "nbformat": 4,
 "nbformat_minor": 5
}
