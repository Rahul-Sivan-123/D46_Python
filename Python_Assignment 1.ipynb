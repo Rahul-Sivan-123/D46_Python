{
 "cells": [
  {
   "cell_type": "code",
   "execution_count": 17,
   "id": "aaadb472-041d-4a64-b43b-479934ffd1fa",
   "metadata": {},
   "outputs": [],
   "source": [
    "# 1.Write Python code that prints your name, student number and email address. An example runs of the program: Bob ST1001 bob@gmail.com"
   ]
  },
  {
   "cell_type": "code",
   "execution_count": 5,
   "id": "af08048f-2dda-491b-a34a-b0bb925c9921",
   "metadata": {},
   "outputs": [
    {
     "name": "stdout",
     "output_type": "stream",
     "text": [
      "Name: Rahul Sivan\n",
      "Student No: ST 103\n",
      "email id: rahul@gmail.com\n"
     ]
    }
   ],
   "source": [
    "print('Name:','Rahul Sivan')\n",
    "print('Student No:','ST 103')\n",
    "print('email id:','rahul@gmail.com')"
   ]
  },
  {
   "cell_type": "code",
   "execution_count": 7,
   "id": "3579d97a-97a8-434b-a751-6e6dcbc6a431",
   "metadata": {},
   "outputs": [],
   "source": [
    "# 2.Write Python code that prints your name, student number and email address using escape sequences. An example runs of the program: Bob ST1001 bob@gmail.com"
   ]
  },
  {
   "cell_type": "code",
   "execution_count": 21,
   "id": "f93a9adc-98c8-4adf-ab43-79a6c022c9b5",
   "metadata": {},
   "outputs": [
    {
     "name": "stdout",
     "output_type": "stream",
     "text": [
      "Bob\n",
      "ST001\n",
      "Bob@gmail.com\n"
     ]
    }
   ],
   "source": [
    "print('Bob\\nST001\\nBob@gmail.com')"
   ]
  },
  {
   "cell_type": "code",
   "execution_count": 23,
   "id": "0548311b-7c97-4ff4-a9c1-cf84be92068a",
   "metadata": {},
   "outputs": [],
   "source": [
    "# 3.Write Python code that add, subtract, multiply and divide the two numbers. You can use the two numbers 14 and 7. An example run of the program: 14 + 7 = 21 14 * 7 = 98 14 – 7 = 7 14 / 7 = 2 "
   ]
  },
  {
   "cell_type": "code",
   "execution_count": 27,
   "id": "4869eb64-06fe-4c32-b0db-1f806e110bb2",
   "metadata": {},
   "outputs": [
    {
     "name": "stdout",
     "output_type": "stream",
     "text": [
      "Sum of 14 and 7 is: 21\n",
      "Difference of 14 and 7 is: 7\n",
      "product of 14 and 7 is: 98\n",
      "Division of 14 and 7 is: 2.0\n"
     ]
    }
   ],
   "source": [
    "print('Sum of 14 and 7 is:',14+7)\n",
    "print('Difference of 14 and 7 is:',14-7)\n",
    "print('product of 14 and 7 is:',14*7)\n",
    "print('Division of 14 and 7 is:',14/7)"
   ]
  },
  {
   "cell_type": "code",
   "execution_count": 29,
   "id": "32fb264e-a502-44d0-be45-fb40f30048bd",
   "metadata": {},
   "outputs": [],
   "source": [
    "#4.Write Python code that displays the numbers from 1 to 5 as steps. An example runs of the program: 1 2 3 4 5 "
   ]
  },
  {
   "cell_type": "code",
   "execution_count": 33,
   "id": "c47c76c7-3105-4bb3-a223-a370d2243de9",
   "metadata": {},
   "outputs": [
    {
     "name": "stdout",
     "output_type": "stream",
     "text": [
      "1\n",
      "2\n",
      "3\n",
      "4\n",
      "5\n"
     ]
    }
   ],
   "source": [
    "print(1)\n",
    "print(2)\n",
    "print(3)\n",
    "print(4)\n",
    "print(5)"
   ]
  },
  {
   "cell_type": "code",
   "execution_count": 35,
   "id": "d53b0856-2fda-4c62-a7dc-0bf97f16f288",
   "metadata": {},
   "outputs": [],
   "source": [
    "#5.Write Python code that outputs the following sentence (including the quotation marks and line break) to the screen: An example runs of the program: \"SDK\" stands for \"Software Development Kit\", whereas \"IDE\" stands for \"Integrated Development Environment\". "
   ]
  },
  {
   "cell_type": "code",
   "execution_count": 43,
   "id": "d934f5c6-4163-4094-80cd-0f52cda6b303",
   "metadata": {},
   "outputs": [
    {
     "name": "stdout",
     "output_type": "stream",
     "text": [
      "\"SDK\" stands for \"Software Development Kit\",\n",
      "whereas\n",
      "\"IDE\" stands for \"Integrated Development\n",
      "Environment\".\n"
     ]
    }
   ],
   "source": [
    "print('\"SDK\" stands for \"Software Development Kit\",\\nwhereas\\n\"IDE\" stands for \"Integrated Development\\nEnvironment\".')"
   ]
  },
  {
   "cell_type": "code",
   "execution_count": 45,
   "id": "20f18f14-be1e-4cfe-bdc9-c4a78ad9fa11",
   "metadata": {},
   "outputs": [],
   "source": [
    "#6.Practice and check the output print(\"python is an \\\"awesome\\\" language.\") print(\"python\\n\\t2023\") print('I\\'m from Entri.\\b') print(\"\\65\") print(\"\\x65\") print(\"Entri\", \"2023\", sep=\"\\n\") print(\"Entri\", \"2023\", sep=\"\\b\") print(\"Entri\", \"2023\", sep=\"*\", end=\"\\b\\b\\b\\b\") "
   ]
  },
  {
   "cell_type": "code",
   "execution_count": 59,
   "id": "74802578-6f43-4417-9c53-c83c41067580",
   "metadata": {},
   "outputs": [
    {
     "name": "stdout",
     "output_type": "stream",
     "text": [
      "python is an \"awesome\" language.\n",
      "python\n",
      "\t2023\n",
      "I'm from Entri\n",
      "5\n",
      "e\n",
      "Entri\n",
      "2023\n",
      "Entr2023\n",
      "Entri*20"
     ]
    }
   ],
   "source": [
    "print(\"python is an \\\"awesome\\\" language.\") \n",
    "print(\"python\\n\\t2023\") \n",
    "print('I\\'m from Entri.\\b') \n",
    "print(\"\\65\") \n",
    "print(\"\\x65\") \n",
    "print(\"Entri\", \"2023\", sep=\"\\n\") \n",
    "print(\"Entri\", \"2023\", sep=\"\\b\")\n",
    "print(\"Entri\", \"2023\", sep=\"*\", end=\"\\b\\b\\b\\b\")"
   ]
  },
  {
   "cell_type": "code",
   "execution_count": 61,
   "id": "d594357b-9833-4899-bbf6-326c410ed867",
   "metadata": {},
   "outputs": [],
   "source": [
    "#7.Define the variables below. Print the types of each variable. What is the sum of your variables? (Hint: use a type conversion function.) What datatype is the sum? num=23 textnum=\"57\" decimal=98.3"
   ]
  },
  {
   "cell_type": "code",
   "execution_count": 67,
   "id": "8b108e66-5605-4c1b-88cb-f2b325c167b0",
   "metadata": {},
   "outputs": [
    {
     "name": "stdout",
     "output_type": "stream",
     "text": [
      "<class 'int'>\n",
      "<class 'str'>\n",
      "<class 'float'>\n",
      "sum is: 178.3\n",
      "Datatype of sum is: <class 'float'>\n"
     ]
    }
   ],
   "source": [
    "num=23 \n",
    "textnum=\"57\"\n",
    "decimal=98.3\n",
    "print(type(num))\n",
    "print(type(textnum))\n",
    "print(type(decimal))\n",
    "sum=num+int(textnum)+decimal\n",
    "print('sum is:',sum)\n",
    "print('Datatype of sum is:',type(sum))"
   ]
  },
  {
   "cell_type": "code",
   "execution_count": 69,
   "id": "8d15fbe7-cbb3-4aad-af44-440082afcb8d",
   "metadata": {},
   "outputs": [],
   "source": [
    "#8.calculate the number of minutes in a year using variables for each unit of time. print a statement that describes what your code does also. Create three variables to store no of days in a year, minute in a hour, hours in a day, then calculate the total minutes in a year and print the values (hint) total number of minutes in an year =No.of days in an year * Hours in a day * Minutes in an hour "
   ]
  },
  {
   "cell_type": "code",
   "execution_count": 73,
   "id": "98242fc4-d5b6-4189-ab03-0745a3390fa0",
   "metadata": {},
   "outputs": [
    {
     "name": "stdout",
     "output_type": "stream",
     "text": [
      "The total no: of minutes in an year is: 525600\n"
     ]
    }
   ],
   "source": [
    "days_in_a_year=365\n",
    "minutes_in_an_hour=60\n",
    "hours_in_a_day=24\n",
    "total_minutes_in_an_year=days_in_a_year*minutes_in_an_hour*hours_in_a_day\n",
    "print('The total no: of minutes in an year is:',total_minutes_in_an_year)\n"
   ]
  },
  {
   "cell_type": "code",
   "execution_count": 75,
   "id": "23c92de2-96c6-4333-afd7-6be7e7c7fdcd",
   "metadata": {},
   "outputs": [],
   "source": [
    "#9.Write Python code that asks the user to enter his/her name and then output/prints his/her name with a greeting. An example runs of the program: Please enter you name: Tony Hi Tony, welcome to Python programming :) "
   ]
  },
  {
   "cell_type": "code",
   "execution_count": 79,
   "id": "6f2ba388-cc3a-4e23-b0dc-8631618c393d",
   "metadata": {},
   "outputs": [
    {
     "name": "stdin",
     "output_type": "stream",
     "text": [
      "Enter your name: Tony\n"
     ]
    },
    {
     "name": "stdout",
     "output_type": "stream",
     "text": [
      "Hi Tony, welcome to python programming:)\n"
     ]
    }
   ],
   "source": [
    "name=input('Enter your name:')\n",
    "print(f'Hi {name}, welcome to python programming:)')"
   ]
  },
  {
   "cell_type": "code",
   "execution_count": 81,
   "id": "165d8361-077a-446b-8504-9d93da3944b7",
   "metadata": {},
   "outputs": [],
   "source": [
    "#10.Name your file: PoundsToDollars.py Write a program that asks the user to enter an amount in pounds (£) and the program calculates and converts an amount in dollar ($) An example runs of the program: Please enter amount in pounds: XXX £ XXX are $ XXX"
   ]
  },
  {
   "cell_type": "code",
   "execution_count": 97,
   "id": "be4a5493-3998-4933-801f-d9172caf43fd",
   "metadata": {},
   "outputs": [
    {
     "name": "stdin",
     "output_type": "stream",
     "text": [
      "Please enter amount in Pounds(£): 32.7\n"
     ]
    },
    {
     "name": "stdout",
     "output_type": "stream",
     "text": [
      " £32.7 are $ 40.548\n"
     ]
    }
   ],
   "source": [
    "p=float(input('Please enter amount in Pounds(£):'))\n",
    "d=p*1.24\n",
    "print(f' £{p} are $ {d}')"
   ]
  },
  {
   "cell_type": "code",
   "execution_count": null,
   "id": "5c30a230-1368-4107-b566-ec749d129417",
   "metadata": {},
   "outputs": [],
   "source": []
  }
 ],
 "metadata": {
  "kernelspec": {
   "display_name": "Python [conda env:base] *",
   "language": "python",
   "name": "conda-base-py"
  },
  "language_info": {
   "codemirror_mode": {
    "name": "ipython",
    "version": 3
   },
   "file_extension": ".py",
   "mimetype": "text/x-python",
   "name": "python",
   "nbconvert_exporter": "python",
   "pygments_lexer": "ipython3",
   "version": "3.12.7"
  }
 },
 "nbformat": 4,
 "nbformat_minor": 5
}
