{
 "cells": [
  {
   "cell_type": "markdown",
   "id": "048954fa-7606-41fd-9e52-45372684671c",
   "metadata": {},
   "source": [
    "Assignment 3_Conditional and Looping Statements\n"
   ]
  },
  {
   "cell_type": "code",
   "execution_count": 2,
   "id": "768b380d-9b9b-4555-b8d9-724e27e03ae6",
   "metadata": {},
   "outputs": [],
   "source": [
    "#1. Name your file: MonthNames.py Write a program that reads an integer value between 1 and 12 from the user and prints output the corresponding month of the year. An example run of the program (numbers in bold are typed in by the user) Enter the month: 3 Month 3 is March"
   ]
  },
  {
   "cell_type": "code",
   "execution_count": 22,
   "id": "ab16fcde-075c-4bfc-9a2d-4f423b06c55e",
   "metadata": {},
   "outputs": [
    {
     "name": "stdin",
     "output_type": "stream",
     "text": [
      "Enter the month: 18\n"
     ]
    },
    {
     "name": "stdout",
     "output_type": "stream",
     "text": [
      "Invalid entry.Enter a number between 1 & 12.\n"
     ]
    }
   ],
   "source": [
    "num=int(input('Enter the month:'))\n",
    "if num==1:\n",
    "    print(f'Month 1 is January')\n",
    "elif num==2:\n",
    "    print(f'Month 2 is February')\n",
    "elif num==3:\n",
    "    print(f'Month 3 is March')\n",
    "elif num==4:\n",
    "    print(f'Month 4 is April')\n",
    "elif num==5:\n",
    "    print(f'Month 5 is May')\n",
    "elif num==6:\n",
    "    print(f'Month 6 is June')\n",
    "elif num==7:\n",
    "    print(f'Month 7 is July')\n",
    "elif num==8:\n",
    "    print(f'Month 8 is August')\n",
    "elif num==9:\n",
    "    print(f'Month 9 is September')\n",
    "elif num==10:\n",
    "    print(f'Month 10 is October')\n",
    "elif num==11:\n",
    "    print(f'Month 11 is November')\n",
    "elif num==12:\n",
    "    print(f'Month 12 is December')\n",
    "else:\n",
    "    print('Invalid entry.Enter a number between 1 & 12.')"
   ]
  },
  {
   "cell_type": "code",
   "execution_count": 24,
   "id": "0a1d6662-bb49-4653-9458-cb267a99f7a7",
   "metadata": {},
   "outputs": [],
   "source": [
    "#2. A certain cinema currently sells tickets for a full price of 6 pounds, but always sells tickets for half price to people who are less than 16 years old, and for a third of the price for people who are 60 years old or more. An example run of the program (numbers in bold are typed in by the user) Enter your age: 63 Your ticket costs £2.00"
   ]
  },
  {
   "cell_type": "code",
   "execution_count": 54,
   "id": "a97d64ad-a0fc-4541-aa39-bead119364ef",
   "metadata": {},
   "outputs": [
    {
     "name": "stdin",
     "output_type": "stream",
     "text": [
      "Enter your age: 63\n"
     ]
    },
    {
     "name": "stdout",
     "output_type": "stream",
     "text": [
      "Your ticket costs £2.00\n"
     ]
    }
   ],
   "source": [
    "age=float(input(\"Enter your age:\"))\n",
    "if age<16:\n",
    "    print(f'Your ticket costs £{6/2:.2f}')\n",
    "elif age >=60:\n",
    "    print(f'Your ticket costs £{6/3:.2f}')\n",
    "else:\n",
    "    print(f'Your ticket costs £{6:.2f}')\n",
    "    \n",
    "    \n",
    "        "
   ]
  },
  {
   "cell_type": "code",
   "execution_count": 56,
   "id": "2c8435d9-1b0e-465c-ac37-56a6a83a13f1",
   "metadata": {},
   "outputs": [],
   "source": [
    "#3. Name your file: BodyMassIndex.py Write a program to calculate your BMI and give weight status. Body Mass Index (BMI) is an internationally used measurement to check if you are a healthy weight for your height.The metric BMI formula accepts weight in kilograms and height in meters: BMI= weight(kg)/height2(m2) BMI Weight Status Categories table BMI range - kg/m2 Category Below 18.5 Underweight 18.5 -24.9 Normal 25 - 29.9 Overweight 30 & Above Obese An example run of the program (numbers in bold are typed in by the user) Enter your weight in (kg): 75 Enter your height in (m): 1.70 Your BMI is: 25.95 You are in the “overweight” range."
   ]
  },
  {
   "cell_type": "code",
   "execution_count": 70,
   "id": "af41c968-80a6-4ec3-9d71-feaabf2ed566",
   "metadata": {},
   "outputs": [
    {
     "name": "stdin",
     "output_type": "stream",
     "text": [
      "Enter you weight in (kg): 75\n",
      "Enter your height in (m): 1.70\n"
     ]
    },
    {
     "name": "stdout",
     "output_type": "stream",
     "text": [
      "You are in \"Overweight\" range.\n"
     ]
    }
   ],
   "source": [
    "weight=float(input('Enter you weight in (kg):'))\n",
    "height=float(input('Enter your height in (m):'))\n",
    "bmi=weight/(height**2)\n",
    "if bmi < 18.5:\n",
    "    print('You are in \"Underweight\" range.')\n",
    "elif 18.5<= bmi <= 24.9:\n",
    "    print('You are in \"Normal\" range.')\n",
    "elif 25<= bmi <= 29.9:\n",
    "    print('You are in \"Overweight\" range.')\n",
    "else:\n",
    "    print('You are in \"Obese\" range.')\n"
   ]
  },
  {
   "cell_type": "code",
   "execution_count": 72,
   "id": "d2d5b322-cc30-4a91-8fba-0b8ddf67bf04",
   "metadata": {},
   "outputs": [],
   "source": [
    "#4. Write a Python program to receive 3 numbers from the user and print the greatest among them."
   ]
  },
  {
   "cell_type": "code",
   "execution_count": 112,
   "id": "abd518f2-286e-45db-b6fd-1dfe84c28b85",
   "metadata": {},
   "outputs": [
    {
     "name": "stdin",
     "output_type": "stream",
     "text": [
      "Enter 1st number: 23\n",
      "Enter 2nd number: 45\n",
      "Enter 3rd number: 67\n"
     ]
    },
    {
     "name": "stdout",
     "output_type": "stream",
     "text": [
      "67.0 is greater.\n"
     ]
    }
   ],
   "source": [
    "a=float(input('Enter 1st number:'))\n",
    "b=float(input('Enter 2nd number:'))\n",
    "c=float(input('Enter 3rd number:'))\n",
    "\n",
    "if a==b==c:\n",
    "    print('Numbers are equal.')\n",
    "elif a==0 and b==0:\n",
    "        print(f'{c} is greater.')\n",
    "elif  b==0 and c==0:\n",
    "        print(f'{a} is greater.')\n",
    "elif  a==0 and c==0:\n",
    "        print(f'{b} is greater.')\n",
    "elif a==0 and b>c:\n",
    "        print(f'{b} is greater.')\n",
    "elif b==0 and a>c:\n",
    "        print(f'{a} is greater.')\n",
    "elif c==0 and a>b:\n",
    "        print(f'{a} is greater.')\n",
    "elif a>b and a>c:\n",
    "    print(f'{a} is greater.')\n",
    "elif b>c and b>a:\n",
    "    print(f'{b} is greater.')\n",
    "else:\n",
    "    print(f'{c} is greater.')\n",
    "\n",
    "\n"
   ]
  },
  {
   "cell_type": "code",
   "execution_count": 114,
   "id": "5171c43e-d55d-43f4-8bbf-2fdd6159798f",
   "metadata": {},
   "outputs": [],
   "source": [
    "#5. Find the factorial of a given number using loops(note the number is received from the user)"
   ]
  },
  {
   "cell_type": "code",
   "execution_count": 127,
   "id": "8c9632eb-1738-49f5-9797-d7b2115b759e",
   "metadata": {},
   "outputs": [
    {
     "name": "stdin",
     "output_type": "stream",
     "text": [
      "Enter a number: 5\n"
     ]
    },
    {
     "name": "stdout",
     "output_type": "stream",
     "text": [
      "Factorial of 5 is 120.\n"
     ]
    }
   ],
   "source": [
    "f=int(input('Enter a number:'))\n",
    "if f==0:\n",
    "      print('Factorial of 1 is 1.')\n",
    "elif f<0:\n",
    "      print(' No factorial for negative number.')\n",
    "else: \n",
    "    fact=1\n",
    "    for i in range(1,f+1):\n",
    "        fact=fact*(i)\n",
    "    print(f'Factorial of {f} is {fact}.')\n",
    "      "
   ]
  },
  {
   "cell_type": "code",
   "execution_count": 129,
   "id": "71ab2f83-37dc-4ad9-8f93-73acaf1c71ec",
   "metadata": {},
   "outputs": [],
   "source": [
    " #6. Reverse a number using while loop"
   ]
  },
  {
   "cell_type": "code",
   "execution_count": 23,
   "id": "56fcc3f7-e7d7-452b-aa2d-1f5779173435",
   "metadata": {},
   "outputs": [
    {
     "name": "stdin",
     "output_type": "stream",
     "text": [
      "Enter a number: 123\n"
     ]
    },
    {
     "name": "stdout",
     "output_type": "stream",
     "text": [
      "Reversed number is 321\n"
     ]
    }
   ],
   "source": [
    "num=int(input('Enter a number:'))\n",
    "rev=0\n",
    "while num!=0:\n",
    "    digit=num%10\n",
    "    rev=rev*10+digit\n",
    "    num//=10\n",
    "\n",
    "print('Reversed number is',str(rev))\n",
    "    \n",
    "    \n",
    "\n",
    "\n",
    "              "
   ]
  },
  {
   "cell_type": "code",
   "execution_count": 25,
   "id": "8953ea19-0266-4bd7-8b9b-9ba281e14561",
   "metadata": {},
   "outputs": [],
   "source": [
    "#7. Finding the multiples of a number using loop"
   ]
  },
  {
   "cell_type": "code",
   "execution_count": 39,
   "id": "b86354ff-0e3e-4098-9b71-8d748f2fd1cd",
   "metadata": {},
   "outputs": [
    {
     "name": "stdin",
     "output_type": "stream",
     "text": [
      "Enter a number: 6\n"
     ]
    },
    {
     "name": "stdout",
     "output_type": "stream",
     "text": [
      "1 * 6 = 6\n",
      "2 * 6 = 12\n",
      "3 * 6 = 18\n",
      "4 * 6 = 24\n",
      "5 * 6 = 30\n",
      "6 * 6 = 36\n"
     ]
    }
   ],
   "source": [
    "num=int(input('Enter a number:'))\n",
    "for i in range(1,num+1):\n",
    "    print(i,'*',num,'=',i*num)"
   ]
  },
  {
   "cell_type": "code",
   "execution_count": 49,
   "id": "4908d936-60cf-4d53-a5ce-2b50e2901cfb",
   "metadata": {},
   "outputs": [],
   "source": [
    "#8. Write a program to print the inputted value as it is and break the loop if the value is 'done'. Example run of the program :hello there hello there :finished finished :done Done"
   ]
  },
  {
   "cell_type": "code",
   "execution_count": 80,
   "id": "8dc499b5-38cb-4425-abe1-ec1df5523284",
   "metadata": {},
   "outputs": [
    {
     "name": "stdin",
     "output_type": "stream",
     "text": [
      " hgcg\n"
     ]
    },
    {
     "name": "stdout",
     "output_type": "stream",
     "text": [
      "hgcg\n"
     ]
    },
    {
     "name": "stdin",
     "output_type": "stream",
     "text": [
      " kjb\n"
     ]
    },
    {
     "name": "stdout",
     "output_type": "stream",
     "text": [
      "kjb\n"
     ]
    },
    {
     "name": "stdin",
     "output_type": "stream",
     "text": [
      " ljnj\n"
     ]
    },
    {
     "name": "stdout",
     "output_type": "stream",
     "text": [
      "ljnj\n"
     ]
    },
    {
     "name": "stdin",
     "output_type": "stream",
     "text": [
      " done\n"
     ]
    }
   ],
   "source": [
    "while a!='done':\n",
    "    a=input()\n",
    "    if a=='done':\n",
    "        break\n",
    "    else:\n",
    "        print(a)\n",
    "\n"
   ]
  },
  {
   "cell_type": "code",
   "execution_count": null,
   "id": "2c7208a3-e0cf-4c9d-91e8-4b5b730bcfcb",
   "metadata": {},
   "outputs": [],
   "source": [
    "#9. Write a program that prints the numbers from 1 to 10. But for multiples of three print \"Fizz\" instead of the number and for the multiple of five print \"Buzz\". For numbers which are multiples of both three and five print \"FizzBuzz\""
   ]
  },
  {
   "cell_type": "code",
   "execution_count": 41,
   "id": "d3a3164c-01c7-4d8b-9fa6-97bb745ae60a",
   "metadata": {},
   "outputs": [
    {
     "name": "stdout",
     "output_type": "stream",
     "text": [
      "1\n",
      "2\n",
      "Fizz\n",
      "4\n",
      "Buzz\n",
      "Fizz\n",
      "7\n",
      "8\n",
      "Fizz\n",
      "Buzz\n"
     ]
    }
   ],
   "source": [
    "i=1\n",
    "while i<11:\n",
    "    if i%3==0:\n",
    "        print('Fizz')\n",
    "        i+=1\n",
    "        continue\n",
    "    elif i%5==0:\n",
    "        print('Buzz')\n",
    "        i+=1\n",
    "        continue\n",
    "    elif i%5==0 and i/3==0:\n",
    "        print('FizzBuzz')\n",
    "        i+=1\n",
    "        continue\n",
    "    print(i)\n",
    "    i+=1\n",
    "    "
   ]
  },
  {
   "cell_type": "code",
   "execution_count": 43,
   "id": "7845a8b6-148c-427a-a520-2e2bb7770f78",
   "metadata": {},
   "outputs": [],
   "source": [
    "#10. Write a program to print the following pattern: 5 4 3 2 1 4 3 2 1 3 2 1 2 1 1"
   ]
  },
  {
   "cell_type": "code",
   "execution_count": 35,
   "id": "8f3f4be5-8f4e-44cd-9db7-26b1dac67f01",
   "metadata": {},
   "outputs": [
    {
     "name": "stdout",
     "output_type": "stream",
     "text": [
      "5 4 3 2 1 4 3 2 1 3 2 1 2 1 1 "
     ]
    }
   ],
   "source": [
    "for i in range(5,0,-1):\n",
    "    for j in range(i,0,-1):\n",
    "        print(j,end=' ')\n",
    "    "
   ]
  },
  {
   "cell_type": "code",
   "execution_count": null,
   "id": "b326bb9b-7f0f-4026-bb67-ab66aee8bbc2",
   "metadata": {},
   "outputs": [],
   "source": []
  }
 ],
 "metadata": {
  "kernelspec": {
   "display_name": "Python [conda env:base] *",
   "language": "python",
   "name": "conda-base-py"
  },
  "language_info": {
   "codemirror_mode": {
    "name": "ipython",
    "version": 3
   },
   "file_extension": ".py",
   "mimetype": "text/x-python",
   "name": "python",
   "nbconvert_exporter": "python",
   "pygments_lexer": "ipython3",
   "version": "3.12.7"
  }
 },
 "nbformat": 4,
 "nbformat_minor": 5
}
